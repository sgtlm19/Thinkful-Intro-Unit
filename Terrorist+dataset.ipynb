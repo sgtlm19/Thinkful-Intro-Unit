{
 "cells": [
  {
   "cell_type": "markdown",
   "metadata": {},
   "source": [
    "# Thinkful Visualization Challenge #"
   ]
  },
  {
   "cell_type": "markdown",
   "metadata": {},
   "source": [
    "The purpose of this notebook is to practice the matplotlib package on some public datasets for the Thinkful Data Science Prep Course Visualization Challenge.  I chose the Global Terrorism dataset to practice using matplotlib.  This dataset was found on the Kaggle site.  "
   ]
  },
  {
   "cell_type": "code",
   "execution_count": 53,
   "metadata": {
    "collapsed": true
   },
   "outputs": [],
   "source": [
    "import pandas as pd\n",
    "import numpy as np\n",
    "%matplotlib inline\n",
    "import matplotlib.pyplot as plt"
   ]
  },
  {
   "cell_type": "markdown",
   "metadata": {},
   "source": [
    "### 1.Read in dataset ### "
   ]
  },
  {
   "cell_type": "code",
   "execution_count": 54,
   "metadata": {},
   "outputs": [],
   "source": [
    "terror = pd.read_csv('terrorist.csv', encoding = \"ISO-8859-1\", low_memory=False)"
   ]
  },
  {
   "cell_type": "markdown",
   "metadata": {},
   "source": [
    "### 2. Initial Look at Dataset ###"
   ]
  },
  {
   "cell_type": "code",
   "execution_count": 55,
   "metadata": {},
   "outputs": [
    {
     "data": {
      "text/html": [
       "<div>\n",
       "<style>\n",
       "    .dataframe thead tr:only-child th {\n",
       "        text-align: right;\n",
       "    }\n",
       "\n",
       "    .dataframe thead th {\n",
       "        text-align: left;\n",
       "    }\n",
       "\n",
       "    .dataframe tbody tr th {\n",
       "        vertical-align: top;\n",
       "    }\n",
       "</style>\n",
       "<table border=\"1\" class=\"dataframe\">\n",
       "  <thead>\n",
       "    <tr style=\"text-align: right;\">\n",
       "      <th></th>\n",
       "      <th>eventid</th>\n",
       "      <th>iyear</th>\n",
       "      <th>imonth</th>\n",
       "      <th>iday</th>\n",
       "      <th>approxdate</th>\n",
       "      <th>extended</th>\n",
       "      <th>resolution</th>\n",
       "      <th>country</th>\n",
       "      <th>country_txt</th>\n",
       "      <th>region</th>\n",
       "      <th>...</th>\n",
       "      <th>addnotes</th>\n",
       "      <th>scite1</th>\n",
       "      <th>scite2</th>\n",
       "      <th>scite3</th>\n",
       "      <th>dbsource</th>\n",
       "      <th>INT_LOG</th>\n",
       "      <th>INT_IDEO</th>\n",
       "      <th>INT_MISC</th>\n",
       "      <th>INT_ANY</th>\n",
       "      <th>related</th>\n",
       "    </tr>\n",
       "  </thead>\n",
       "  <tbody>\n",
       "    <tr>\n",
       "      <th>0</th>\n",
       "      <td>197000000001</td>\n",
       "      <td>1970</td>\n",
       "      <td>7</td>\n",
       "      <td>2</td>\n",
       "      <td>NaN</td>\n",
       "      <td>0</td>\n",
       "      <td>NaN</td>\n",
       "      <td>58</td>\n",
       "      <td>Dominican Republic</td>\n",
       "      <td>2</td>\n",
       "      <td>...</td>\n",
       "      <td>NaN</td>\n",
       "      <td>NaN</td>\n",
       "      <td>NaN</td>\n",
       "      <td>NaN</td>\n",
       "      <td>PGIS</td>\n",
       "      <td>0</td>\n",
       "      <td>0</td>\n",
       "      <td>0</td>\n",
       "      <td>0</td>\n",
       "      <td>NaN</td>\n",
       "    </tr>\n",
       "    <tr>\n",
       "      <th>1</th>\n",
       "      <td>197000000002</td>\n",
       "      <td>1970</td>\n",
       "      <td>0</td>\n",
       "      <td>0</td>\n",
       "      <td>NaN</td>\n",
       "      <td>0</td>\n",
       "      <td>NaN</td>\n",
       "      <td>130</td>\n",
       "      <td>Mexico</td>\n",
       "      <td>1</td>\n",
       "      <td>...</td>\n",
       "      <td>NaN</td>\n",
       "      <td>NaN</td>\n",
       "      <td>NaN</td>\n",
       "      <td>NaN</td>\n",
       "      <td>PGIS</td>\n",
       "      <td>0</td>\n",
       "      <td>1</td>\n",
       "      <td>1</td>\n",
       "      <td>1</td>\n",
       "      <td>NaN</td>\n",
       "    </tr>\n",
       "    <tr>\n",
       "      <th>2</th>\n",
       "      <td>197001000001</td>\n",
       "      <td>1970</td>\n",
       "      <td>1</td>\n",
       "      <td>0</td>\n",
       "      <td>NaN</td>\n",
       "      <td>0</td>\n",
       "      <td>NaN</td>\n",
       "      <td>160</td>\n",
       "      <td>Philippines</td>\n",
       "      <td>5</td>\n",
       "      <td>...</td>\n",
       "      <td>NaN</td>\n",
       "      <td>NaN</td>\n",
       "      <td>NaN</td>\n",
       "      <td>NaN</td>\n",
       "      <td>PGIS</td>\n",
       "      <td>-9</td>\n",
       "      <td>-9</td>\n",
       "      <td>1</td>\n",
       "      <td>1</td>\n",
       "      <td>NaN</td>\n",
       "    </tr>\n",
       "    <tr>\n",
       "      <th>3</th>\n",
       "      <td>197001000002</td>\n",
       "      <td>1970</td>\n",
       "      <td>1</td>\n",
       "      <td>0</td>\n",
       "      <td>NaN</td>\n",
       "      <td>0</td>\n",
       "      <td>NaN</td>\n",
       "      <td>78</td>\n",
       "      <td>Greece</td>\n",
       "      <td>8</td>\n",
       "      <td>...</td>\n",
       "      <td>NaN</td>\n",
       "      <td>NaN</td>\n",
       "      <td>NaN</td>\n",
       "      <td>NaN</td>\n",
       "      <td>PGIS</td>\n",
       "      <td>-9</td>\n",
       "      <td>-9</td>\n",
       "      <td>1</td>\n",
       "      <td>1</td>\n",
       "      <td>NaN</td>\n",
       "    </tr>\n",
       "    <tr>\n",
       "      <th>4</th>\n",
       "      <td>197001000003</td>\n",
       "      <td>1970</td>\n",
       "      <td>1</td>\n",
       "      <td>0</td>\n",
       "      <td>NaN</td>\n",
       "      <td>0</td>\n",
       "      <td>NaN</td>\n",
       "      <td>101</td>\n",
       "      <td>Japan</td>\n",
       "      <td>4</td>\n",
       "      <td>...</td>\n",
       "      <td>NaN</td>\n",
       "      <td>NaN</td>\n",
       "      <td>NaN</td>\n",
       "      <td>NaN</td>\n",
       "      <td>PGIS</td>\n",
       "      <td>-9</td>\n",
       "      <td>-9</td>\n",
       "      <td>1</td>\n",
       "      <td>1</td>\n",
       "      <td>NaN</td>\n",
       "    </tr>\n",
       "  </tbody>\n",
       "</table>\n",
       "<p>5 rows × 135 columns</p>\n",
       "</div>"
      ],
      "text/plain": [
       "        eventid  iyear  imonth  iday approxdate  extended resolution  country  \\\n",
       "0  197000000001   1970       7     2        NaN         0        NaN       58   \n",
       "1  197000000002   1970       0     0        NaN         0        NaN      130   \n",
       "2  197001000001   1970       1     0        NaN         0        NaN      160   \n",
       "3  197001000002   1970       1     0        NaN         0        NaN       78   \n",
       "4  197001000003   1970       1     0        NaN         0        NaN      101   \n",
       "\n",
       "          country_txt  region   ...    addnotes scite1 scite2  scite3  \\\n",
       "0  Dominican Republic       2   ...         NaN    NaN    NaN     NaN   \n",
       "1              Mexico       1   ...         NaN    NaN    NaN     NaN   \n",
       "2         Philippines       5   ...         NaN    NaN    NaN     NaN   \n",
       "3              Greece       8   ...         NaN    NaN    NaN     NaN   \n",
       "4               Japan       4   ...         NaN    NaN    NaN     NaN   \n",
       "\n",
       "   dbsource  INT_LOG  INT_IDEO INT_MISC INT_ANY  related  \n",
       "0      PGIS        0         0        0       0      NaN  \n",
       "1      PGIS        0         1        1       1      NaN  \n",
       "2      PGIS       -9        -9        1       1      NaN  \n",
       "3      PGIS       -9        -9        1       1      NaN  \n",
       "4      PGIS       -9        -9        1       1      NaN  \n",
       "\n",
       "[5 rows x 135 columns]"
      ]
     },
     "execution_count": 55,
     "metadata": {},
     "output_type": "execute_result"
    }
   ],
   "source": [
    "terror.head()"
   ]
  },
  {
   "cell_type": "code",
   "execution_count": 56,
   "metadata": {},
   "outputs": [
    {
     "name": "stdout",
     "output_type": "stream",
     "text": [
      "<class 'pandas.core.frame.DataFrame'>\n",
      "RangeIndex: 170350 entries, 0 to 170349\n",
      "Columns: 135 entries, eventid to related\n",
      "dtypes: float64(53), int64(24), object(58)\n",
      "memory usage: 175.5+ MB\n"
     ]
    }
   ],
   "source": [
    "terror.info()"
   ]
  },
  {
   "cell_type": "markdown",
   "metadata": {},
   "source": [
    "### 3. Convert Column Names ###"
   ]
  },
  {
   "cell_type": "markdown",
   "metadata": {},
   "source": [
    "I got this method of converting the column names from the user I,Coder on Kaggle.  The purpose of converting the column names is to make the column names more recognizable.  "
   ]
  },
  {
   "cell_type": "code",
   "execution_count": 57,
   "metadata": {},
   "outputs": [
    {
     "data": {
      "text/html": [
       "<div>\n",
       "<style>\n",
       "    .dataframe thead tr:only-child th {\n",
       "        text-align: right;\n",
       "    }\n",
       "\n",
       "    .dataframe thead th {\n",
       "        text-align: left;\n",
       "    }\n",
       "\n",
       "    .dataframe tbody tr th {\n",
       "        vertical-align: top;\n",
       "    }\n",
       "</style>\n",
       "<table border=\"1\" class=\"dataframe\">\n",
       "  <thead>\n",
       "    <tr style=\"text-align: right;\">\n",
       "      <th></th>\n",
       "      <th>Year</th>\n",
       "      <th>Month</th>\n",
       "      <th>Day</th>\n",
       "      <th>Country</th>\n",
       "      <th>Region</th>\n",
       "      <th>city</th>\n",
       "      <th>latitude</th>\n",
       "      <th>longitude</th>\n",
       "      <th>AttackType</th>\n",
       "      <th>Killed</th>\n",
       "      <th>Wounded</th>\n",
       "      <th>Target</th>\n",
       "      <th>Summary</th>\n",
       "      <th>Group</th>\n",
       "      <th>Target_type</th>\n",
       "      <th>Weapon_type</th>\n",
       "      <th>Motive</th>\n",
       "      <th>casualities</th>\n",
       "    </tr>\n",
       "  </thead>\n",
       "  <tbody>\n",
       "    <tr>\n",
       "      <th>0</th>\n",
       "      <td>1970</td>\n",
       "      <td>7</td>\n",
       "      <td>2</td>\n",
       "      <td>Dominican Republic</td>\n",
       "      <td>Central America &amp; Caribbean</td>\n",
       "      <td>Santo Domingo</td>\n",
       "      <td>18.456792</td>\n",
       "      <td>-69.951164</td>\n",
       "      <td>Assassination</td>\n",
       "      <td>1.0</td>\n",
       "      <td>0.0</td>\n",
       "      <td>Julio Guzman</td>\n",
       "      <td>NaN</td>\n",
       "      <td>MANO-D</td>\n",
       "      <td>Private Citizens &amp; Property</td>\n",
       "      <td>Unknown</td>\n",
       "      <td>NaN</td>\n",
       "      <td>1.0</td>\n",
       "    </tr>\n",
       "    <tr>\n",
       "      <th>1</th>\n",
       "      <td>1970</td>\n",
       "      <td>0</td>\n",
       "      <td>0</td>\n",
       "      <td>Mexico</td>\n",
       "      <td>North America</td>\n",
       "      <td>Mexico city</td>\n",
       "      <td>19.432608</td>\n",
       "      <td>-99.133207</td>\n",
       "      <td>Hostage Taking (Kidnapping)</td>\n",
       "      <td>0.0</td>\n",
       "      <td>0.0</td>\n",
       "      <td>Nadine Chaval, daughter</td>\n",
       "      <td>NaN</td>\n",
       "      <td>23rd of September Communist League</td>\n",
       "      <td>Government (Diplomatic)</td>\n",
       "      <td>Unknown</td>\n",
       "      <td>NaN</td>\n",
       "      <td>0.0</td>\n",
       "    </tr>\n",
       "    <tr>\n",
       "      <th>2</th>\n",
       "      <td>1970</td>\n",
       "      <td>1</td>\n",
       "      <td>0</td>\n",
       "      <td>Philippines</td>\n",
       "      <td>Southeast Asia</td>\n",
       "      <td>Unknown</td>\n",
       "      <td>15.478598</td>\n",
       "      <td>120.599741</td>\n",
       "      <td>Assassination</td>\n",
       "      <td>1.0</td>\n",
       "      <td>0.0</td>\n",
       "      <td>Employee</td>\n",
       "      <td>NaN</td>\n",
       "      <td>Unknown</td>\n",
       "      <td>Journalists &amp; Media</td>\n",
       "      <td>Unknown</td>\n",
       "      <td>NaN</td>\n",
       "      <td>1.0</td>\n",
       "    </tr>\n",
       "  </tbody>\n",
       "</table>\n",
       "</div>"
      ],
      "text/plain": [
       "   Year  Month  Day             Country                       Region  \\\n",
       "0  1970      7    2  Dominican Republic  Central America & Caribbean   \n",
       "1  1970      0    0              Mexico                North America   \n",
       "2  1970      1    0         Philippines               Southeast Asia   \n",
       "\n",
       "            city   latitude   longitude                   AttackType  Killed  \\\n",
       "0  Santo Domingo  18.456792  -69.951164                Assassination     1.0   \n",
       "1    Mexico city  19.432608  -99.133207  Hostage Taking (Kidnapping)     0.0   \n",
       "2        Unknown  15.478598  120.599741                Assassination     1.0   \n",
       "\n",
       "   Wounded                   Target Summary  \\\n",
       "0      0.0             Julio Guzman     NaN   \n",
       "1      0.0  Nadine Chaval, daughter     NaN   \n",
       "2      0.0                 Employee     NaN   \n",
       "\n",
       "                                Group                  Target_type  \\\n",
       "0                              MANO-D  Private Citizens & Property   \n",
       "1  23rd of September Communist League      Government (Diplomatic)   \n",
       "2                             Unknown          Journalists & Media   \n",
       "\n",
       "  Weapon_type Motive  casualities  \n",
       "0     Unknown    NaN          1.0  \n",
       "1     Unknown    NaN          0.0  \n",
       "2     Unknown    NaN          1.0  "
      ]
     },
     "execution_count": 57,
     "metadata": {},
     "output_type": "execute_result"
    }
   ],
   "source": [
    "#Rename columns\n",
    "terror.rename(columns={'iyear':'Year','imonth':'Month','iday':'Day','country_txt':'Country','region_txt':'Region','attacktype1_txt':'AttackType','target1':'Target','nkill':'Killed','nwound':'Wounded','summary':'Summary','gname':'Group','targtype1_txt':'Target_type','weaptype1_txt':'Weapon_type','motive':'Motive'},inplace=True)\n",
    "\n",
    "#Create new dataframe with only these columns\n",
    "terror=terror[['Year','Month','Day','Country','Region','city','latitude','longitude','AttackType','Killed','Wounded','Target','Summary','Group','Target_type','Weapon_type','Motive']]\n",
    "\n",
    "#Create casualty column which is a sum of the Killed and Wounded Columns\n",
    "terror['casualities']=terror['Killed']+terror['Wounded']\n",
    "\n",
    "#Check to see what the first rows of the new dataframe looks like\n",
    "terror.head(3)"
   ]
  },
  {
   "cell_type": "markdown",
   "metadata": {},
   "source": [
    "### 4. Scatter Plot of Number of People Killed by Year ###"
   ]
  },
  {
   "cell_type": "code",
   "execution_count": 58,
   "metadata": {},
   "outputs": [
    {
     "name": "stdout",
     "output_type": "stream",
     "text": [
      "      Killed that Year\n",
      "1970             171.0\n",
      "1971             173.0\n",
      "1972             566.0\n",
      "1973             370.0\n",
      "1974             542.0\n",
      "1975             617.0\n",
      "1976             672.0\n",
      "1977             456.0\n",
      "1978            1459.0\n",
      "1979            2100.0\n",
      "1980            4391.0\n",
      "1981            4851.0\n",
      "1986            4976.0\n",
      "1982            5135.0\n",
      "1983            9444.0\n",
      "1984           10450.0\n",
      "1985            7094.0\n",
      "1987            6476.0\n",
      "1988            7189.0\n",
      "1989            8136.0\n",
      "1990            7148.0\n",
      "1991            8429.0\n",
      "1992            9745.0\n",
      "1994            7691.0\n",
      "1995            6094.0\n",
      "1996            6965.0\n",
      "1997           10928.0\n",
      "1998            4688.0\n",
      "1999            3388.0\n",
      "2000            4402.0\n",
      "2001            7743.0\n",
      "2002            4799.0\n",
      "2003            3278.0\n",
      "2004            5718.0\n",
      "2005            6313.0\n",
      "2006            9362.0\n",
      "2007           12858.0\n",
      "2008            9135.0\n",
      "2009            9271.0\n",
      "2010            7727.0\n",
      "2011            8228.0\n",
      "2012           15436.0\n",
      "2013           22234.0\n",
      "2014           43566.0\n",
      "2015           38464.0\n",
      "2016           34676.0\n"
     ]
    }
   ],
   "source": [
    "# Create unique list of years and create an empty list that will contain sum of people killed that year\n",
    "years_list = terror['Year'].unique()\n",
    "killed_list= []\n",
    "\n",
    "#Iterate through unique year list and for each year sum the number of people killed in that year and append to list\n",
    "for year in years_list:\n",
    "    x = terror[(terror['Year'] == year)]\n",
    "    killed_list.append(x['Killed'].sum())\n",
    "\n",
    "#Create data frame which contains the number of people killed each year and then print dataframe\n",
    "year_sumkilled = np.array(killed_list)\n",
    "year_sumkilled = pd.DataFrame(year_sumkilled)\n",
    "year_sumkilled.columns = ['Killed that Year']\n",
    "year_sumkilled.index = years_list\n",
    "print(year_sumkilled)"
   ]
  },
  {
   "cell_type": "code",
   "execution_count": 59,
   "metadata": {},
   "outputs": [
    {
     "data": {
      "text/plain": [
       "<function matplotlib.pyplot.show>"
      ]
     },
     "execution_count": 59,
     "metadata": {},
     "output_type": "execute_result"
    },
    {
     "data": {
      "image/png": "[encoded data removed]",
      "text/plain": [
       "<matplotlib.figure.Figure at 0x118b0bc88>"
      ]
     },
     "metadata": {},
     "output_type": "display_data"
    }
   ],
   "source": [
    "#Create a scatter plot of the number of people killed each year \n",
    "plt.scatter(x = year_sumkilled.index, y = year_sumkilled['Killed that Year'])\n",
    "plt.title('Terrorist Deaths per Year')\n",
    "plt.show"
   ]
  },
  {
   "cell_type": "markdown",
   "metadata": {},
   "source": [
    "Looking at the plot, the 1970's were a decade where there were relatively few people killed by terrorist activity.  But after the 80's, there is a noticeable incremental increase in the number of people killed by terrorist activity.  After the year 2010, the number of people killed rose sharply.  "
   ]
  },
  {
   "cell_type": "markdown",
   "metadata": {},
   "source": [
    "### 5. Bar Graph of Number of People Killed by Region ###"
   ]
  },
  {
   "cell_type": "code",
   "execution_count": 60,
   "metadata": {},
   "outputs": [
    {
     "name": "stdout",
     "output_type": "stream",
     "text": [
      "                             Killed in that Region\n",
      "Central America & Caribbean                28704.0\n",
      "North America                               4764.0\n",
      "Southeast Asia                             14819.0\n",
      "Western Europe                              6595.0\n",
      "East Asia                                   1138.0\n",
      "South America                              28730.0\n",
      "Eastern Europe                              7311.0\n",
      "Sub-Saharan Africa                         71244.0\n",
      "Middle East & North Africa                125676.0\n",
      "Australasia & Oceania                        146.0\n",
      "South Asia                                 93434.0\n",
      "Central Asia                                 993.0\n"
     ]
    }
   ],
   "source": [
    "# Create unique list of regions and create an empty list that will contain sum of people killed in that region\n",
    "region_list = terror['Region'].unique()\n",
    "killed_listregion = []\n",
    "\n",
    "#Iterate through unique region list and for each region sum the number of people killed in that region and append to list\n",
    "for region in region_list:\n",
    "    x = terror[(terror['Region'] == region)]\n",
    "    killed_listregion.append(x['Killed'].sum())\n",
    "\n",
    "#Create data frame which contains the number of people killed in each region and then print dataframe\n",
    "region_sumkilled = np.array(killed_listregion)\n",
    "region_sumkilled = pd.DataFrame(region_sumkilled)\n",
    "region_sumkilled.columns = ['Killed in that Region']\n",
    "region_sumkilled.index = region_list\n",
    "print(region_sumkilled)"
   ]
  },
  {
   "cell_type": "code",
   "execution_count": 61,
   "metadata": {},
   "outputs": [
    {
     "data": {
      "text/plain": [
       "<matplotlib.axes._subplots.AxesSubplot at 0x116a256d8>"
      ]
     },
     "execution_count": 61,
     "metadata": {},
     "output_type": "execute_result"
    },
    {
     "data": {
      "image/png": "[encoded data removed]",
      "text/plain": [
       "<matplotlib.figure.Figure at 0x118b0bda0>"
      ]
     },
     "metadata": {},
     "output_type": "display_data"
    }
   ],
   "source": [
    "#Create bar graph of number of people killed in each region\n",
    "my_colors = 'rgbkymc'\n",
    "region_sumkilled.plot(kind='bar',\n",
    "                      color=my_colors,\n",
    "                      title='Number of People Killed by Region')"
   ]
  },
  {
   "cell_type": "markdown",
   "metadata": {},
   "source": [
    "Looking at the bar graph, the most violent region in terms of people killed by terrorist activity is the Middle East & North Africa Region.  The second and third most violent regions are South Asia and Sub-Saharan Africa.  The western countries are relatively low in number of people killed by terrorist activity. "
   ]
  },
  {
   "cell_type": "markdown",
   "metadata": {},
   "source": [
    "### 6. Bar Graph Subplots of the Top 3 Violent Regions by Country ###"
   ]
  },
  {
   "cell_type": "code",
   "execution_count": 92,
   "metadata": {},
   "outputs": [
    {
     "name": "stdout",
     "output_type": "stream",
     "text": [
      "         Killed in that Country\n",
      "Iraq                    71082.0\n",
      "Syria                   13132.0\n",
      "Algeria                 11091.0\n",
      "Yemen                    8011.0\n",
      "Turkey                   6664.0\n",
      "Lebanon                  4038.0\n",
      "Egypt                    2947.0\n",
      "Libya                    2308.0\n",
      "Israel                   1666.0\n"
     ]
    }
   ],
   "source": [
    "# Create unique list of countries in the Middle East region and create an empty list that will contain sum of people killed in that country\n",
    "Middle_East = terror[(terror['Region'] == 'Middle East & North Africa')]\n",
    "Middle_Eastcountry = Middle_East['Country'].unique()\n",
    "killed_listme = []\n",
    "\n",
    "#Iterate through unique country list and for each country sum the number of people killed in that country and append to list\n",
    "for country in Middle_Eastcountry:\n",
    "    x = terror[(terror['Country'] == country)]\n",
    "    killed_listme.append(x['Killed'].sum())\n",
    "\n",
    "#Create data frame which contains the number of people killed in each Middle Eastern country and then sort the data frame\n",
    "middleeast_sumkilled = np.array(killed_listme)\n",
    "middleeast_sumkilled = pd.DataFrame(middleeast_sumkilled)\n",
    "middleeast_sumkilled.columns = ['Killed in that Country']\n",
    "middleeast_sumkilled.index = Middle_Eastcountry\n",
    "middleeast_sumkilled = middleeast_sumkilled.sort_values(['Killed in that Country'], ascending = False)\n",
    "\n",
    "#To make the subplot more readable I will only print the top 9 deadliest countries in that region\n",
    "middleeast_sumkilled9 = middleeast_sumkilled.iloc[0:9]\n",
    "print(middleeast_sumkilled9)"
   ]
  },
  {
   "cell_type": "code",
   "execution_count": 93,
   "metadata": {},
   "outputs": [
    {
     "name": "stdout",
     "output_type": "stream",
     "text": [
      "                                  Killed in that Country\n",
      "Nigeria                                          20665.0\n",
      "Somalia                                           8254.0\n",
      "Burundi                                           4182.0\n",
      "Sudan                                             3801.0\n",
      "Democratic Republic of the Congo                  3460.0\n",
      "Rwanda                                            3234.0\n",
      "Uganda                                            3058.0\n",
      "Angola                                            3036.0\n",
      "Mozambique                                        2689.0\n"
     ]
    }
   ],
   "source": [
    "# Create unique list of countries in the Sub-Saharan Africa region and create an empty list that will contain sum of people killed in that country\n",
    "Saharan_Africa = terror[(terror['Region'] == 'Sub-Saharan Africa')]\n",
    "Saharan_Africacountry = Saharan_Africa['Country'].unique()\n",
    "killed_listsouthafrica = []\n",
    "\n",
    "#Iterate through unique country list and for each country sum the number of people killed in that country and append to list\n",
    "for country in Saharan_Africacountry:\n",
    "    x = terror[(terror['Country'] == country)]\n",
    "    killed_listsouthafrica.append(x['Killed'].sum())\n",
    "\n",
    "#Create data frame which contains the number of people killed in each Sub-Sahara African country and then sort the data frame\n",
    "saharaafrica_sumkilled = np.array(killed_listsouthafrica)\n",
    "saharaafrica_sumkilled = pd.DataFrame(saharaafrica_sumkilled)\n",
    "saharaafrica_sumkilled.columns = ['Killed in that Country']\n",
    "saharaafrica_sumkilled.index = Saharan_Africacountry\n",
    "saharaafrica_sumkilled = saharaafrica_sumkilled.sort_values(['Killed in that Country'], ascending = False)\n",
    "\n",
    "#To make the subplot more readable I will only print the top 9 deadliest countries in that region\n",
    "saharaafrica_sumkilled9 = saharaafrica_sumkilled.iloc[0:9]\n",
    "print(saharaafrica_sumkilled9)"
   ]
  },
  {
   "cell_type": "code",
   "execution_count": 88,
   "metadata": {},
   "outputs": [
    {
     "name": "stdout",
     "output_type": "stream",
     "text": [
      "             Killed in that Country\n",
      "Afghanistan                 33146.0\n",
      "Pakistan                    22734.0\n",
      "India                       18842.0\n",
      "Sri Lanka                   15528.0\n",
      "Nepal                        1968.0\n",
      "Bangladesh                   1207.0\n",
      "Bhutan                          9.0\n",
      "Mauritius                       0.0\n",
      "Maldives                        0.0\n",
      "             Killed in that Country\n",
      "Afghanistan                 33146.0\n",
      "Pakistan                    22734.0\n",
      "India                       18842.0\n",
      "Sri Lanka                   15528.0\n",
      "Nepal                        1968.0\n"
     ]
    }
   ],
   "source": [
    "# Create unique list of countries in the South Asia region and create an empty list that will contain sum of people killed in that country\n",
    "South_Asia = terror[(terror['Region'] == 'South Asia')]\n",
    "South_Asiacountry = South_Asia['Country'].unique()\n",
    "killed_listsouthasia = []\n",
    "\n",
    "#Iterate through unique country list and for each country sum the number of people killed in that country and append to list\n",
    "for country in South_Asiacountry:\n",
    "    x = terror[(terror['Country'] == country)]\n",
    "    killed_listsouthasia.append(x['Killed'].sum())\n",
    "\n",
    "#Create data frame which contains the number of people killed in each South Asian country and then sort the dataframe\n",
    "southasia_sumkilled = np.array(killed_listsouthasia)\n",
    "southasia_sumkilled = pd.DataFrame(southasia_sumkilled)\n",
    "southasia_sumkilled.columns = ['Killed in that Country']\n",
    "southasia_sumkilled.index = South_Asiacountry\n",
    "southasia_sumkilled = southasia_sumkilled.sort_values(['Killed in that Country'], ascending = False)\n",
    "print(southasia_sumkilled)"
   ]
  },
  {
   "cell_type": "code",
   "execution_count": 102,
   "metadata": {},
   "outputs": [
    {
     "data": {
      "image/png": "[encoded data removed]",
      "text/plain": [
       "<matplotlib.figure.Figure at 0x134dc1a20>"
      ]
     },
     "metadata": {},
     "output_type": "display_data"
    }
   ],
   "source": [
    "#Print three bar graph subplots of the deadliest regions and show the deadliest 9 countries in that region\n",
    "positions = [1,2,3,4,5,6,7,8,9]\n",
    "plt.figure(figsize=(20, 20))\n",
    "plt.suptitle('Top Deadly Regions Ravaged by Terrorist Activity', fontsize=18)\n",
    "\n",
    "a1 = plt.subplot(3, 3, 1)\n",
    "plt.title('Deaths in Middle East by Country')\n",
    "plt.bar(positions, height = middleeast_sumkilled9['Killed in that Country'] , color= my_colors)\n",
    "plt.xticks(positions, middleeast_sumkilled.index, rotation='vertical')\n",
    "\n",
    "plt.subplot(3, 3, 2, sharey = a1)\n",
    "plt.title('Deaths in South Asia by Country')\n",
    "plt.bar(positions, height = southasia_sumkilled['Killed in that Country'] , color= my_colors)\n",
    "plt.xticks(positions, southasia_sumkilled.index, rotation='vertical')\n",
    "\n",
    "plt.subplot(3, 3, 3, sharey = a1)\n",
    "plt.title('Deaths in Sub-Saharan Africa by Country')\n",
    "plt.bar(positions, height = saharaafrica_sumkilled9['Killed in that Country'] , color= my_colors)\n",
    "plt.xticks(positions, saharaafrica_sumkilled.index, rotation='vertical')\n",
    "\n",
    "plt.show()"
   ]
  },
  {
   "cell_type": "markdown",
   "metadata": {},
   "source": [
    "Looking at the subplots, Iraq accounts for an overwhelming majority of the terrorist deaths in the Middle East.  The number of deaths in Iraq is about seven times the number of deaths in the second deadliest country in the Middle East. Also, the total deaths for Iraq is greater than the sum of the top country in South Asia with the top country in Sub-Saharan Africa.  "
   ]
  },
  {
   "cell_type": "markdown",
   "metadata": {},
   "source": [
    "### 7. Scatter Plot of Iraq's Deaths Over Time ###"
   ]
  },
  {
   "cell_type": "code",
   "execution_count": 112,
   "metadata": {},
   "outputs": [
    {
     "name": "stdout",
     "output_type": "stream",
     "text": [
      "      Killed that Year\n",
      "1975               0.0\n",
      "1976              12.0\n",
      "1979               1.0\n",
      "1980               8.0\n",
      "1981               0.0\n",
      "1982              96.0\n",
      "1983               1.0\n",
      "1984               0.0\n",
      "1987               0.0\n",
      "1988              43.0\n",
      "1989               0.0\n",
      "1991               1.0\n",
      "1992             117.0\n",
      "1994              75.0\n",
      "1995             156.0\n",
      "1996              11.0\n",
      "1997             106.0\n",
      "1998              19.0\n",
      "1999              32.0\n",
      "2000              10.0\n",
      "2001               9.0\n",
      "2002              10.0\n",
      "2003             354.0\n",
      "2004            2151.0\n",
      "2005            3380.0\n",
      "2006            4612.0\n",
      "2007            6665.0\n",
      "2008            2864.0\n",
      "2009            2583.0\n",
      "2010            2071.0\n",
      "2011            1870.0\n",
      "2012            2686.0\n",
      "2013            7038.0\n",
      "2014           13079.0\n",
      "2015            8835.0\n",
      "2016           12187.0\n",
      "71082.0\n",
      "71082.0\n"
     ]
    }
   ],
   "source": [
    "# Create unique list of years and create an empty list that will contain sum of people killed that year in Iraq\n",
    "Iraq = terror[(terror['Country'] == 'Iraq')]\n",
    "Iraq_time= Iraq['Year'].unique()\n",
    "killed_timeiraq = []\n",
    "\n",
    "#Iterate through unique year list and for each year sum the number of people killed in that year and append to list\n",
    "for year in Iraq_time:\n",
    "    x = Iraq[(Iraq['Year'] == year)]\n",
    "    killed_timeiraq.append(x['Killed'].sum())\n",
    "\n",
    "#Create data frame which contains the number of people killed each year in Iraq and then print dataframe\n",
    "year_sumkilled_iraq = np.array(killed_timeiraq)\n",
    "year_sumkilled_iraq = pd.DataFrame(year_sumkilled_iraq)\n",
    "year_sumkilled_iraq.columns = ['Killed that Year']\n",
    "year_sumkilled_iraq.index = Iraq_time\n",
    "print(year_sumkilled_iraq)\n"
   ]
  },
  {
   "cell_type": "code",
   "execution_count": 113,
   "metadata": {},
   "outputs": [
    {
     "data": {
      "text/plain": [
       "<function matplotlib.pyplot.show>"
      ]
     },
     "execution_count": 113,
     "metadata": {},
     "output_type": "execute_result"
    },
    {
     "data": {
      "image/png": "[encoded data removed]",
      "text/plain": [
       "<matplotlib.figure.Figure at 0x11896a5c0>"
      ]
     },
     "metadata": {},
     "output_type": "display_data"
    }
   ],
   "source": [
    "#Create a scatter plot of the number of people killed each year \n",
    "plt.scatter(x = year_sumkilled_iraq.index, y = year_sumkilled_iraq['Killed that Year'])\n",
    "plt.title('Terrorist Deaths per Year in Iraq')\n",
    "plt.show"
   ]
  },
  {
   "cell_type": "markdown",
   "metadata": {},
   "source": [
    "Looking at the time series plot of the deaths, close to half of Iraq's total terrorist deaths occurred in the past three years.  The years from 1975-2002 had relatively few terrorist deaths.  But after 2002, the number of deaths due to terrorist attacks started to increase.  "
   ]
  }
 ],
 "metadata": {
  "kernelspec": {
   "display_name": "Python 3",
   "language": "python",
   "name": "python3"
  },
  "language_info": {
   "codemirror_mode": {
    "name": "ipython",
    "version": 3
   },
   "file_extension": ".py",
   "mimetype": "text/x-python",
   "name": "python",
   "nbconvert_exporter": "python",
   "pygments_lexer": "ipython3",
   "version": "3.6.2"
  }
 },
 "nbformat": 4,
 "nbformat_minor": 2
}
