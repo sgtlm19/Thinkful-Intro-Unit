{
 "cells": [
  {
   "cell_type": "markdown",
   "metadata": {},
   "source": [
    "# Descriptive Statistics and Normality Drill #"
   ]
  },
  {
   "cell_type": "markdown",
   "metadata": {},
   "source": [
    "#### 1.) Generate a random variable with 100 datapoints using the code distributionvar = np.random.distributionname([arguments], 100), replacing distributionvar with an appropriate variable name and distributionname with the name of the distribution you’ve chosen, and filling in the empty space in the parentheses with your chosen values for the appropriate parameters. If you feel uncertain about how to do this, go back to the “Other Distributions” assignment for examples of code to use as a starting point. ####"
   ]
  },
  {
   "cell_type": "code",
   "execution_count": 1,
   "metadata": {
    "collapsed": true
   },
   "outputs": [],
   "source": [
    "import numpy as np\n",
    "import pandas as pd\n",
    "import matplotlib.pyplot as plt\n",
    "%matplotlib inline"
   ]
  },
  {
   "cell_type": "code",
   "execution_count": 3,
   "metadata": {},
   "outputs": [],
   "source": [
    "normdist = np.random.normal(50, 30, 100)"
   ]
  },
  {
   "cell_type": "markdown",
   "metadata": {},
   "source": [
    "#### 2.) Graph the variable using a histogram. ####"
   ]
  },
  {
   "cell_type": "code",
   "execution_count": 4,
   "metadata": {},
   "outputs": [
    {
     "data": {
      "image/png": "[encoded data removed]",
      "text/plain": [
       "<matplotlib.figure.Figure at 0x111dfcf28>"
      ]
     },
     "metadata": {},
     "output_type": "display_data"
    }
   ],
   "source": [
    "plt.hist(normdist, bins=20, color='c')\n",
    "plt.show()"
   ]
  },
  {
   "cell_type": "markdown",
   "metadata": {},
   "source": [
    "#### 3.) Compute the mean and standard deviation and plot them as vertical lines on the histogram. ####"
   ]
  },
  {
   "cell_type": "code",
   "execution_count": 7,
   "metadata": {},
   "outputs": [
    {
     "data": {
      "image/png": "[encoded data removed]",
      "text/plain": [
       "<matplotlib.figure.Figure at 0x11a3f9dd8>"
      ]
     },
     "metadata": {},
     "output_type": "display_data"
    },
    {
     "name": "stdout",
     "output_type": "stream",
     "text": [
      "49.2023912796\n",
      "30.6117803365\n"
     ]
    }
   ],
   "source": [
    "plt.hist(normdist, bins=20, color='c')\n",
    "\n",
    "#Add a vertical line at the mean\n",
    "plt.axvline(normdist.mean(), color='b', linestyle='solid', linewidth=2)\n",
    "\n",
    "# Add a vertical line at one standard deviation above the mean.\n",
    "plt.axvline(normdist.mean() + normdist.std(), color='b', linestyle='dashed', linewidth=2)\n",
    "\n",
    "# Add a vertical line at one standard deviation below the mean.\n",
    "plt.axvline(normdist.mean()-normdist.std(), color='b', linestyle='dashed', linewidth=2)\n",
    "\n",
    "plt.show()\n",
    "print(normdist.mean())\n",
    "print(normdist.std())"
   ]
  },
  {
   "cell_type": "markdown",
   "metadata": {},
   "source": [
    "#### Rayleigh Distribution ####"
   ]
  },
  {
   "cell_type": "code",
   "execution_count": 9,
   "metadata": {},
   "outputs": [
    {
     "data": {
      "image/png": "[encoded data removed]",
      "text/plain": [
       "<matplotlib.figure.Figure at 0x11a5b84a8>"
      ]
     },
     "metadata": {},
     "output_type": "display_data"
    }
   ],
   "source": [
    "rayleighdist = np.random.rayleigh(50, 100)\n",
    "plt.hist(rayleighdist, bins=20, color='c')\n",
    "\n",
    "#Add a vertical line at the mean\n",
    "plt.axvline(rayleighdist.mean(), color='b', linestyle='solid', linewidth=2)\n",
    "\n",
    "# Add a vertical line at one standard deviation above the mean.\n",
    "plt.axvline(rayleighdist.mean() + rayleighdist.std(), color='b', linestyle='dashed', linewidth=2)\n",
    "\n",
    "# Add a vertical line at one standard deviation below the mean.\n",
    "plt.axvline(rayleighdist.mean()-rayleighdist.std(), color='b', linestyle='dashed', linewidth=2)\n",
    "\n",
    "plt.show()"
   ]
  },
  {
   "cell_type": "markdown",
   "metadata": {},
   "source": [
    "#### Poisson Distribution ####"
   ]
  },
  {
   "cell_type": "code",
   "execution_count": 11,
   "metadata": {},
   "outputs": [
    {
     "data": {
      "image/png": "[encoded data removed]",
      "text/plain": [
       "<matplotlib.figure.Figure at 0x116e7e860>"
      ]
     },
     "metadata": {},
     "output_type": "display_data"
    }
   ],
   "source": [
    "poissondist = np.random.poisson([50, 100])\n",
    "plt.hist(poissondist, bins=20, color='c')\n",
    "\n",
    "#Add a vertical line at the mean\n",
    "plt.axvline(poissondist.mean(), color='b', linestyle='solid', linewidth=2)\n",
    "\n",
    "# Add a vertical line at one standard deviation above the mean.\n",
    "plt.axvline(poissondist.mean() + poissondist.std(), color='b', linestyle='dashed', linewidth=2)\n",
    "\n",
    "# Add a vertical line at one standard deviation below the mean.\n",
    "plt.axvline(poissondist.mean()- poissondist.std(), color='b', linestyle='dashed', linewidth=2)\n",
    "\n",
    "plt.show()"
   ]
  },
  {
   "cell_type": "markdown",
   "metadata": {},
   "source": [
    "#### Standard Cauchy Distribution ####"
   ]
  },
  {
   "cell_type": "code",
   "execution_count": 12,
   "metadata": {},
   "outputs": [
    {
     "data": {
      "image/png": "[encoded data removed]",
      "text/plain": [
       "<matplotlib.figure.Figure at 0x11a42ebe0>"
      ]
     },
     "metadata": {},
     "output_type": "display_data"
    }
   ],
   "source": [
    "standardcauchydist = np.random.standard_cauchy(100)\n",
    "plt.hist(standardcauchydist, bins=20, color='c')\n",
    "\n",
    "#Add a vertical line at the mean\n",
    "plt.axvline(standardcauchydist.mean(), color='b', linestyle='solid', linewidth=2)\n",
    "\n",
    "# Add a vertical line at one standard deviation above the mean.\n",
    "plt.axvline(standardcauchydist.mean() + standardcauchydist.std(), color='b', linestyle='dashed', linewidth=2)\n",
    "\n",
    "# Add a vertical line at one standard deviation below the mean.\n",
    "plt.axvline(standardcauchydist.mean()- standardcauchydist.std(), color='b', linestyle='dashed', linewidth=2)\n",
    "\n",
    "plt.show()"
   ]
  },
  {
   "cell_type": "markdown",
   "metadata": {},
   "source": [
    "#### Standard Exponential ####"
   ]
  },
  {
   "cell_type": "code",
   "execution_count": 13,
   "metadata": {},
   "outputs": [
    {
     "data": {
      "image/png": "[encoded data removed]",
      "text/plain": [
       "<matplotlib.figure.Figure at 0x11a49a3c8>"
      ]
     },
     "metadata": {},
     "output_type": "display_data"
    }
   ],
   "source": [
    "standardexpodist = np.random.standard_exponential(100)\n",
    "plt.hist(standardexpodist, bins=20, color='c')\n",
    "\n",
    "#Add a vertical line at the mean\n",
    "plt.axvline(standardexpodist.mean(), color='b', linestyle='solid', linewidth=2)\n",
    "\n",
    "# Add a vertical line at one standard deviation above the mean.\n",
    "plt.axvline(standardexpodist.mean() + standardexpodist.std(), color='b', linestyle='dashed', linewidth=2)\n",
    "\n",
    "# Add a vertical line at one standard deviation below the mean.\n",
    "plt.axvline(standardexpodist.mean()- standardexpodist.std(), color='b', linestyle='dashed', linewidth=2)\n",
    "\n",
    "plt.show()"
   ]
  },
  {
   "cell_type": "markdown",
   "metadata": {},
   "source": [
    "#### Uniform Distribution ####"
   ]
  },
  {
   "cell_type": "code",
   "execution_count": 14,
   "metadata": {},
   "outputs": [
    {
     "data": {
      "image/png": "[encoded data removed]",
      "text/plain": [
       "<matplotlib.figure.Figure at 0x11a865cc0>"
      ]
     },
     "metadata": {},
     "output_type": "display_data"
    }
   ],
   "source": [
    "uniformdist = np.random.uniform(30,50,100)\n",
    "plt.hist(uniformdist, bins=20, color='c')\n",
    "\n",
    "#Add a vertical line at the mean\n",
    "plt.axvline(uniformdist.mean(), color='b', linestyle='solid', linewidth=2)\n",
    "\n",
    "# Add a vertical line at one standard deviation above the mean.\n",
    "plt.axvline(uniformdist.mean() + uniformdist.std(), color='b', linestyle='dashed', linewidth=2)\n",
    "\n",
    "# Add a vertical line at one standard deviation below the mean.\n",
    "plt.axvline(uniformdist.mean()- uniformdist.std(), color='b', linestyle='dashed', linewidth=2)\n",
    "\n",
    "plt.show()"
   ]
  },
  {
   "cell_type": "markdown",
   "metadata": {},
   "source": [
    "#### Lognormal Distribution ####"
   ]
  },
  {
   "cell_type": "code",
   "execution_count": 15,
   "metadata": {},
   "outputs": [
    {
     "data": {
      "image/png": "[encoded data removed]",
      "text/plain": [
       "<matplotlib.figure.Figure at 0x11a972cc0>"
      ]
     },
     "metadata": {},
     "output_type": "display_data"
    }
   ],
   "source": [
    "lognormaldist = np.random.lognormal([50,30,100])\n",
    "plt.hist(lognormaldist, bins=20, color='c')\n",
    "\n",
    "#Add a vertical line at the mean\n",
    "plt.axvline(lognormaldist.mean(), color='b', linestyle='solid', linewidth=2)\n",
    "\n",
    "# Add a vertical line at one standard deviation above the mean.\n",
    "plt.axvline(lognormaldist.mean() + lognormaldist.std(), color='b', linestyle='dashed', linewidth=2)\n",
    "\n",
    "# Add a vertical line at one standard deviation below the mean.\n",
    "plt.axvline(lognormaldist.mean()- lognormaldist.std(), color='b', linestyle='dashed', linewidth=2)\n",
    "\n",
    "plt.show()"
   ]
  },
  {
   "cell_type": "markdown",
   "metadata": {},
   "source": [
    "#### 4.) Evaluate whether the descriptive statistics provided useful information about the variable. Can you identify any common characteristics of the distributions that could be usefully described using the mean and/or standard deviation, versus the ones that could not? ####"
   ]
  },
  {
   "cell_type": "markdown",
   "metadata": {},
   "source": [
    "For the normal distribution, the descriptive statistics provided useful information about the variable.  It provided a good indicator of the central tendency and the spread of the data.  For the rayleigh distribution, the descriptive statistics provided useful information about the variable.  It provided a good indicator of the central tendency and the spread of the data.  For the poisson distribution, the descriptive statistics did not provide useful information about the variable.  The mean does not represent an actual number in the distribution and the standard deviation doesn't really portray the spread of the data.  For the standard cauchy distribution, the descriptive statistics provided useful information about the variable.  It provided a good indicator of the central tendency and the spread of the data.  For the standard exponential distribution, the descriptive statistics provided useful information about the variable.  It provided a good indicator of the central tendency and the spread of the data.  For uniform distribution, the descriptive statistics provided useful information about the variable.  It provided a good indicator of the central tendency and the spread of the data.  For the lognormal distribution, the descriptive statistics did not provide useful information about the variable.  The mean does not represent an actual number in the distribution and the standard deviation doesn't really portray the spread of the data.  The common characteristic that the mean was able to describe among most of the distributions was central tendency.  It showed where a majority of the data centered at. "
   ]
  },
  {
   "cell_type": "markdown",
   "metadata": {},
   "source": [
    "#### Additionally: ####"
   ]
  },
  {
   "cell_type": "markdown",
   "metadata": {},
   "source": [
    "#### 1.) Generate two normally-distributed variables, one with a mean of 5 and standard deviation of 0.5, and the other with a mean of 10 and standard deviation of 1. ####"
   ]
  },
  {
   "cell_type": "code",
   "execution_count": 17,
   "metadata": {
    "collapsed": true
   },
   "outputs": [],
   "source": [
    "normdist1 = np.random.normal(5, 0.5, 100)\n",
    "normdist2 = np.random.normal(10, 1, 100)"
   ]
  },
  {
   "cell_type": "markdown",
   "metadata": {},
   "source": [
    "#### 2.) Add them together to create a third variable. ####"
   ]
  },
  {
   "cell_type": "code",
   "execution_count": 18,
   "metadata": {
    "collapsed": true
   },
   "outputs": [],
   "source": [
    "normdist3 = normdist1 + normdist2"
   ]
  },
  {
   "cell_type": "markdown",
   "metadata": {},
   "source": [
    "#### 3.) Graph the third variable using a histogram. ####"
   ]
  },
  {
   "cell_type": "code",
   "execution_count": 19,
   "metadata": {},
   "outputs": [
    {
     "data": {
      "image/png": "[encoded data removed]",
      "text/plain": [
       "<matplotlib.figure.Figure at 0x11a97df98>"
      ]
     },
     "metadata": {},
     "output_type": "display_data"
    }
   ],
   "source": [
    "plt.hist(normdist3, bins=20, color='c')\n",
    "plt.show()"
   ]
  },
  {
   "cell_type": "markdown",
   "metadata": {},
   "source": [
    "#### 4.) Compute the mean and standard deviation and plot them as vertical lines on the histogram. ####"
   ]
  },
  {
   "cell_type": "code",
   "execution_count": 22,
   "metadata": {},
   "outputs": [
    {
     "data": {
      "image/png": "[encoded data removed]",
      "text/plain": [
       "<matplotlib.figure.Figure at 0x11a42c710>"
      ]
     },
     "metadata": {},
     "output_type": "display_data"
    },
    {
     "name": "stdout",
     "output_type": "stream",
     "text": [
      "14.9899883067\n",
      "1.04761738871\n"
     ]
    }
   ],
   "source": [
    "plt.hist(normdist3, bins=20, color='c')\n",
    "\n",
    "#Add a vertical line at the mean\n",
    "plt.axvline(normdist3.mean(), color='b', linestyle='solid', linewidth=2)\n",
    "\n",
    "# Add a vertical line at one standard deviation above the mean.\n",
    "plt.axvline(normdist3.mean() + normdist3.std(), color='b', linestyle='dashed', linewidth=2)\n",
    "\n",
    "# Add a vertical line at one standard deviation below the mean.\n",
    "plt.axvline(normdist3.mean()- normdist3.std(), color='b', linestyle='dashed', linewidth=2)\n",
    "\n",
    "plt.show()\n",
    "print(normdist3.mean())\n",
    "print(normdist3.std())"
   ]
  },
  {
   "cell_type": "markdown",
   "metadata": {},
   "source": [
    "#### 5.) Evaluate the descriptive statistics against the data. ####"
   ]
  },
  {
   "cell_type": "markdown",
   "metadata": {},
   "source": [
    "It looks like the third normal distribution added the means of the two distributions together, but the standard deviation of the second distribution remains as the standard deviation for the third normal distribution.  "
   ]
  }
 ],
 "metadata": {
  "kernelspec": {
   "display_name": "Python 3",
   "language": "python",
   "name": "python3"
  },
  "language_info": {
   "codemirror_mode": {
    "name": "ipython",
    "version": 3
   },
   "file_extension": ".py",
   "mimetype": "text/x-python",
   "name": "python",
   "nbconvert_exporter": "python",
   "pygments_lexer": "ipython3",
   "version": "3.6.2"
  }
 },
 "nbformat": 4,
 "nbformat_minor": 2
}
